{
 "cells": [
  {
   "cell_type": "code",
   "execution_count": null,
   "metadata": {},
   "outputs": [
    {
     "ename": "",
     "evalue": "",
     "output_type": "error",
     "traceback": [
      "\u001b[1;31mRunning cells with 'Python 3.12.9' requires the ipykernel package.\n",
      "\u001b[1;31mRun the following command to install 'ipykernel' into the Python environment. \n",
      "\u001b[1;31mCommand: '/opt/homebrew/bin/python3.12 -m pip install ipykernel -U --user --force-reinstall'"
     ]
    }
   ],
   "source": [
    "import pandas as pd\n",
    "import numpy as np\n",
    "import tensorflow as tf\n",
    "from tensorflow.keras.models import Sequential\n",
    "from tensorflow.keras.layers import LSTM, Dense, Dropout\n",
    "from sklearn.preprocessing import MinMaxScaler\n",
    "from sklearn.model_selection import train_test_split\n",
    "import matplotlib.pyplot as plt\n",
    "import os\n",
    "\n",
    "# 🔹 Load dataset\n",
    "csv_path = \"../metrics_cache/combined_df.csv\"\n",
    "df = pd.read_csv(csv_path)\n",
    "\n",
    "# 🔹 Select features (inputs) and target (output)\n",
    "features = [\"tps\", \"avg_fee_sol\", \"total_fees_sol\", \"failed_tx_count\", \"tx_count\"]\n",
    "target = \"failed_tx_count\"  # Predicting congestion (failed transactions)\n",
    "\n",
    "# 🔹 Drop missing values\n",
    "df = df[features].dropna()\n",
    "\n",
    "# 🔹 Normalize data using MinMaxScaler\n",
    "scaler = MinMaxScaler()\n",
    "df_scaled = scaler.fit_transform(df)\n",
    "\n",
    "# 🔹 Create sequences for LSTM\n",
    "def create_sequences(data, target_index, seq_length=10):\n",
    "    X, y = [], []\n",
    "    for i in range(len(data) - seq_length):\n",
    "        X.append(data[i : i + seq_length])\n",
    "        y.append(data[i + seq_length, target_index])\n",
    "    return np.array(X), np.array(y)\n",
    "\n",
    "SEQ_LENGTH = 10  # Time steps\n",
    "X, y = create_sequences(df_scaled, target_index=df.columns.get_loc(target), seq_length=SEQ_LENGTH)\n",
    "\n",
    "# 🔹 Train-test split\n",
    "X_train, X_test, y_train, y_test = train_test_split(X, y, test_size=0.2, shuffle=False)\n",
    "\n",
    "# 🔹 Print dataset shapes\n",
    "print(\"✅ X_train shape:\", X_train.shape)\n",
    "print(\"✅ X_test shape:\", X_test.shape)\n",
    "\n",
    "# 🔹 Define LSTM model\n",
    "model = Sequential([\n",
    "    LSTM(64, return_sequences=True, input_shape=(SEQ_LENGTH, X.shape[2])),\n",
    "    Dropout(0.2),\n",
    "    LSTM(32, return_sequences=False),\n",
    "    Dropout(0.2),\n",
    "    Dense(16, activation=\"relu\"),\n",
    "    Dense(1, activation=\"linear\")  # Regression output\n",
    "])\n",
    "\n",
    "# 🔹 Compile model\n",
    "model.compile(optimizer=\"adam\", loss=\"mse\", metrics=[\"mae\"])\n",
    "model.summary()\n",
    "\n",
    "# 🔹 Train the model\n",
    "history = model.fit(X_train, y_train, epochs=50, batch_size=16, validation_data=(X_test, y_test))\n",
    "\n",
    "# 🔹 Plot training loss\n",
    "plt.plot(history.history['loss'], label=\"Train Loss\")\n",
    "plt.plot(history.history['val_loss'], label=\"Validation Loss\")\n",
    "plt.legend()\n",
    "plt.title(\"LSTM Training Loss\")\n",
    "plt.show()\n",
    "\n",
    "# 🔹 Make predictions\n",
    "y_pred = model.predict(X_test)\n",
    "\n",
    "# 🔹 Convert back to original scale\n",
    "y_test_original = scaler.inverse_transform([[0] * len(features) + [val] for val in y_test])[:, -1]\n",
    "y_pred_original = scaler.inverse_transform([[0] * len(features) + [val] for val in y_pred.flatten()])[:, -1]\n",
    "\n",
    "# 🔹 Plot Actual vs Predicted values\n",
    "plt.figure(figsize=(10, 5))\n",
    "plt.plot(y_test_original, label=\"Actual\", color='blue')\n",
    "plt.plot(y_pred_original, label=\"Predicted\", color='red', linestyle='dashed')\n",
    "plt.legend()\n",
    "plt.title(\"Actual vs Predicted Failed Transactions\")\n",
    "plt.show()\n",
    "\n",
    "# 🔹 Save trained model\n",
    "model.save(\"/Users/mukeshdurga/Desktop/solhive/lstm_congestion_model.h5\")\n",
    "print(\"✅ Model saved successfully!\")\n"
   ]
  },
  {
   "cell_type": "code",
   "execution_count": null,
   "metadata": {},
   "outputs": [
    {
     "ename": "",
     "evalue": "",
     "output_type": "error",
     "traceback": [
      "\u001b[1;31mRunning cells with 'Python 3.12.9' requires the ipykernel package.\n",
      "\u001b[1;31mRun the following command to install 'ipykernel' into the Python environment. \n",
      "\u001b[1;31mCommand: '/opt/homebrew/bin/python3.12 -m pip install ipykernel -U --user --force-reinstall'"
     ]
    }
   ],
   "source": [
    "!pip install ipykernel -U --user --force-reinstall"
   ]
  },
  {
   "cell_type": "code",
   "execution_count": null,
   "metadata": {},
   "outputs": [],
   "source": []
  }
 ],
 "metadata": {
  "kernelspec": {
   "display_name": "Python 3",
   "language": "python",
   "name": "python3"
  },
  "language_info": {
   "name": "python",
   "version": "3.12.9"
  }
 },
 "nbformat": 4,
 "nbformat_minor": 2
}
